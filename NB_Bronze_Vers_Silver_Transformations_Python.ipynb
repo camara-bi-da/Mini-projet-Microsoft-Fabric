{
  "cells": [
    {
      "cell_type": "markdown",
      "source": [
        "#Transformations du bronze en Silver\n",
        "\n",
        "Ce notebook effectue des transformations sur les données du lakehouse Bronze et enregistre les données de transformation dans le lakehouse Silver."
      ],
      "metadata": {
        "nteract": {
          "transient": {
            "deleting": false
          }
        },
        "microsoft": {
          "language": "python",
          "language_group": "synapse_pyspark"
        },
        "id": "13e12a2a-5748-44ba-b274-b616862613ec"
      },
      "id": "13e12a2a-5748-44ba-b274-b616862613ec"
    },
    {
      "cell_type": "code",
      "source": [
        "# Importation des fonctions nécessaires pour le projet\n",
        "from pyspark.sql.functions import round, col, dayofmonth, month, year, to_date, quarter, substring, when, regexp_replace"
      ],
      "outputs": [],
      "execution_count": null,
      "metadata": {
        "jupyter": {
          "source_hidden": false,
          "outputs_hidden": false
        },
        "nteract": {
          "transient": {
            "deleting": false
          }
        },
        "microsoft": {
          "language": "python",
          "language_group": "synapse_pyspark"
        },
        "id": "e0b87928-1229-48e9-b1b6-992a59c70fa4"
      },
      "id": "e0b87928-1229-48e9-b1b6-992a59c70fa4"
    },
    {
      "cell_type": "code",
      "source": [
        "# Définis le chemin d'accès à la table wind_power_production dans Lakehouse Bronze\n",
        "bronze_table_path = \"abfss://WindPowerGeneration@onelake.dfs.fabric.microsoft.com/LH_Bronze.Lakehouse/Tables/wind_power_production\"\n",
        "\n",
        "# Charge la table wind_power_production dans un DataFrame spark\n",
        "df = spark.read.format(\"delta\").load(bronze_table_path)"
      ],
      "outputs": [],
      "execution_count": null,
      "metadata": {
        "microsoft": {
          "language": "python",
          "language_group": "synapse_pyspark"
        },
        "id": "28939e7f-3e92-40fc-bc79-9f479dcf8b2b"
      },
      "id": "28939e7f-3e92-40fc-bc79-9f479dcf8b2b"
    },
    {
      "cell_type": "code",
      "source": [
        "# Nettoyage et enrichissement des données\n",
        "df_transformed = (df\n",
        "    .withColumn(\"wind_speed\", round(col(\"wind_speed\"), 2))\n",
        "    .withColumn(\"energy_produced\", round(col(\"energy_produced\"), 2))\n",
        "    .withColumn(\"day\", dayofmonth(col(\"date\")))\n",
        "    .withColumn(\"month\", month(col(\"date\")))\n",
        "    .withColumn(\"quarter\", quarter(col(\"date\")))\n",
        "    .withColumn(\"year\", year(col(\"date\")))\n",
        "    .withColumn(\"time\", regexp_replace(col(\"time\"), \"-\", \":\"))\n",
        "    .withColumn(\"hour_of_day\", substring(col(\"time\"), 1, 2).cast(\"int\"))\n",
        "    .withColumn(\"minute_of_hour\", substring(col(\"time\"), 4, 2).cast(\"int\"))\n",
        "    .withColumn(\"second_of_minute\", substring(col(\"time\"), 7, 2).cast(\"int\"))\n",
        "    .withColumn(\"time_period\", when((col(\"hour_of_day\") >= 5 ) & (col(\"hour_of_day\") < 12), \"Morning\")\n",
        "                                .when((col(\"hour_of_day\") >= 12 ) & (col(\"hour_of_day\") < 17), \"Afternoon\")\n",
        "                                .when((col(\"hour_of_day\") >= 17 ) & (col(\"hour_of_day\") < 21), \"Evening\")\n",
        "                                .otherwise(\"Night\")\n",
        "    )\n",
        ")"
      ],
      "outputs": [],
      "execution_count": null,
      "metadata": {
        "jupyter": {
          "source_hidden": false,
          "outputs_hidden": false
        },
        "nteract": {
          "transient": {
            "deleting": false
          }
        },
        "microsoft": {
          "language": "python",
          "language_group": "synapse_pyspark"
        },
        "collapsed": true,
        "id": "642db9c1-92b0-459c-99db-152c2d11ba1f"
      },
      "id": "642db9c1-92b0-459c-99db-152c2d11ba1f"
    },
    {
      "cell_type": "code",
      "source": [
        "#Spécifie le chemin vers la table wind_power_production située dans le Lakehouse (niveau Silver)\n",
        "silver_table_path = \"abfss://WindPowerGeneration@onelake.dfs.fabric.microsoft.com/LH_Silver.Lakehouse/Tables/wind_power_production\"\n",
        "\n",
        "#Sauvegarde la version transformée de la table wind_power_production dans le Lakehouse (niveau Silver)\n",
        "df_transformed.write.format(\"delta\").mode(\"overwrite\").save(silver_table_path)"
      ],
      "outputs": [],
      "execution_count": null,
      "metadata": {
        "jupyter": {
          "source_hidden": false,
          "outputs_hidden": false
        },
        "nteract": {
          "transient": {
            "deleting": false
          }
        },
        "microsoft": {
          "language": "python",
          "language_group": "synapse_pyspark"
        },
        "id": "508cc457-9ae5-4e80-8c9c-5e6a21e9f731"
      },
      "id": "508cc457-9ae5-4e80-8c9c-5e6a21e9f731"
    }
  ],
  "metadata": {
    "kernel_info": {
      "name": "synapse_pyspark"
    },
    "kernelspec": {
      "name": "synapse_pyspark",
      "language": "Python",
      "display_name": "Synapse PySpark"
    },
    "language_info": {
      "name": "python"
    },
    "microsoft": {
      "language": "python",
      "language_group": "synapse_pyspark",
      "ms_spell_check": {
        "ms_spell_check_language": "en"
      }
    },
    "nteract": {
      "version": "nteract-front-end@1.0.0"
    },
    "synapse_widget": {
      "version": "0.1",
      "state": {}
    },
    "spark_compute": {
      "compute_id": "/trident/default"
    },
    "dependencies": {
      "lakehouse": {
        "default_lakehouse": "1367568c-68c3-4c83-a404-7d9da94a2412",
        "default_lakehouse_name": "LH_Bronze",
        "default_lakehouse_workspace_id": "bfcb8e41-2b70-4eaf-8e07-1ea42aafff4f",
        "known_lakehouses": [
          {
            "id": "1367568c-68c3-4c83-a404-7d9da94a2412"
          },
          {
            "id": "fbc6646f-5e35-4dc8-9524-e05d51e7f330"
          }
        ]
      }
    },
    "colab": {
      "provenance": []
    }
  },
  "nbformat": 4,
  "nbformat_minor": 5
}