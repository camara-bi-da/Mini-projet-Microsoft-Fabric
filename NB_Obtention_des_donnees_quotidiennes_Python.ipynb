{
  "cells": [
    {
      "cell_type": "markdown",
      "source": [
        "# Obtenez des données quotidiennes depuis le dépôt GitHub\n",
        "\n",
        "Ce notebook récupère quotidiennement les données depuis la page web, en se basant sur la dernière date enregistrée dans le Lakehouse Bronze, afin d’extraire les données du jour suivant. Les données collectées sont ensuite enregistrées dans le Lakehouse Bronze."
      ],
      "metadata": {
        "nteract": {
          "transient": {
            "deleting": false
          }
        },
        "microsoft": {
          "language": "python",
          "language_group": "synapse_pyspark"
        },
        "id": "d5d8c88e-8f4b-4325-939c-e433c481ebf8"
      },
      "id": "d5d8c88e-8f4b-4325-939c-e433c481ebf8"
    },
    {
      "cell_type": "code",
      "source": [
        "#Importation des bibliotèques\n",
        "import requests\n",
        "import io\n",
        "import pandas as pd\n",
        "from datetime import timedelta"
      ],
      "outputs": [],
      "execution_count": null,
      "metadata": {
        "jupyter": {
          "source_hidden": false,
          "outputs_hidden": false
        },
        "nteract": {
          "transient": {
            "deleting": false
          }
        },
        "microsoft": {
          "language": "python",
          "language_group": "synapse_pyspark"
        },
        "id": "39fe395e-cd02-4e25-a593-bb1bfd9e1f1e"
      },
      "id": "39fe395e-cd02-4e25-a593-bb1bfd9e1f1e"
    },
    {
      "cell_type": "code",
      "source": [
        "# Lien principal des fichiers CSV d'origine\n",
        "base_url = \"https://raw.githubusercontent.com/datasets-for-training/main/wind-power-dataset/\"\n",
        "\n",
        "# Chemin vers la table wind_power_production dans le Lakehouse Bronze\n",
        "chemin_table_bronze = \"abfss://WindPowerGeneration@onelake.dfs.fabric.microsoft.com/LH_Bronze.Lakehouse/Tables/wind_power_production\""
      ],
      "outputs": [],
      "execution_count": null,
      "metadata": {
        "microsoft": {
          "language": "python",
          "language_group": "synapse_pyspark"
        },
        "id": "f6e5846b-e0d3-433e-832f-93f2de5067ae"
      },
      "id": "f6e5846b-e0d3-433e-832f-93f2de5067ae"
    },
    {
      "cell_type": "code",
      "source": [
        "# Charge la table wind_power_production existante dans un DataFrame Pandas\n",
        "df_spark = spark.read.format(\"delta\").load(chemin_table_bronze)\n",
        "df_pandas = df_spark.toPandas()\n",
        "\n",
        "Display(df_spark)\n",
        "\n",
        "Display(df_pandas)"
      ],
      "outputs": [],
      "execution_count": null,
      "metadata": {
        "jupyter": {
          "source_hidden": false,
          "outputs_hidden": false
        },
        "nteract": {
          "transient": {
            "deleting": false
          }
        },
        "microsoft": {
          "language": "python",
          "language_group": "synapse_pyspark"
        },
        "id": "e2afa079-63a0-40c5-852d-e6319042bcf4"
      },
      "id": "e2afa079-63a0-40c5-852d-e6319042bcf4"
    },
    {
      "cell_type": "code",
      "source": [
        "# Récupére la date la plus récente et le jour suivant\n",
        "date_plus_recente = pd.to_datetime(df_pandas['date'], format = '%Y%m%d').max()\n",
        "date_suivante = (date_plus_recente + timedelta(days = 1)).strftime('%Y%m%d')\n",
        "\n",
        "Display(date_plus_recente)\n",
        "\n",
        "# Créer l’URL et récupérer le fichier CSV du jour suivant\n",
        "URL_fichier_suivant = f\"{base_url}{date_suivante}_wind_power_production.csv\"\n",
        "contenu_fichier = requests.get(URL_fichier_suivant).content\n",
        "\n",
        "Display(contenu_fichier)\n",
        "\n",
        "# Charge le fichier CSV dans un DataFrame Pandas\n",
        "df_pandas_nouveau = pd.read_csv(io.StringIO(contenu_fichier.decode('utf-8')))\n",
        "\n",
        "Display(df_pandas_nouveau)\n",
        "\n",
        "#Convertir la colonne de date au format datetime dans le DataFrame Pandas\n",
        "df_pandas_nouveau['date'] = pd.to_datetime(df_pandas_nouveau['date'])\n",
        "\n",
        "# Convertir le DataFrame Pandas en DataFrame Spark\n",
        "df_spark_nouveau = spark.createDataFrame(df_pandas_nouveau, schema = df_spark.schema)"
      ],
      "outputs": [],
      "execution_count": null,
      "metadata": {
        "jupyter": {
          "source_hidden": false,
          "outputs_hidden": false
        },
        "nteract": {
          "transient": {
            "deleting": false
          }
        },
        "microsoft": {
          "language": "python",
          "language_group": "synapse_pyspark"
        },
        "id": "294ddef7-b3cf-4c52-bbe3-1637fb746b21"
      },
      "id": "294ddef7-b3cf-4c52-bbe3-1637fb746b21"
    },
    {
      "cell_type": "code",
      "source": [
        "# Insére les nouvelles données dans la table wind_power_production du Lakehouse Bronze\n",
        "df_spark_nouveau.write.format(\"delta\").mode(\"append\").save(chemin_table_bronze)"
      ],
      "outputs": [],
      "execution_count": null,
      "metadata": {
        "jupyter": {
          "source_hidden": false,
          "outputs_hidden": false
        },
        "nteract": {
          "transient": {
            "deleting": false
          }
        },
        "microsoft": {
          "language": "python",
          "language_group": "synapse_pyspark"
        },
        "id": "2a606cf2-e507-406e-abc2-c423dbadca61"
      },
      "id": "2a606cf2-e507-406e-abc2-c423dbadca61"
    }
  ],
  "metadata": {
    "kernel_info": {
      "name": "synapse_pyspark"
    },
    "kernelspec": {
      "name": "synapse_pyspark",
      "language": "Python",
      "display_name": "Synapse PySpark"
    },
    "language_info": {
      "name": "python"
    },
    "microsoft": {
      "language": "python",
      "language_group": "synapse_pyspark",
      "ms_spell_check": {
        "ms_spell_check_language": "en"
      }
    },
    "nteract": {
      "version": "nteract-front-end@1.0.0"
    },
    "synapse_widget": {
      "version": "0.1",
      "state": {}
    },
    "spark_compute": {
      "compute_id": "/trident/default"
    },
    "dependencies": {
      "lakehouse": {
        "default_lakehouse": "1367568c-68c3-4c83-a404-7d9da94a2412",
        "default_lakehouse_name": "LH_Bronze",
        "default_lakehouse_workspace_id": "bfcb8e41-2b70-4eaf-8e07-1ea42aafff4f"
      }
    },
    "colab": {
      "provenance": []
    }
  },
  "nbformat": 4,
  "nbformat_minor": 5
}