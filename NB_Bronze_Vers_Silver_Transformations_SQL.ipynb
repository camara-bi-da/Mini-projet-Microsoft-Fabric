{
  "cells": [
    {
      "cell_type": "markdown",
      "source": [
        "# Transformations du bronze en Silver format sql\n",
        "\n",
        "Ce notebook effectue des transformations sur les données du lakehouse Bronze et enregistre les données de transformation dans le lakehouse Silver."
      ],
      "metadata": {
        "nteract": {
          "transient": {
            "deleting": false
          }
        },
        "microsoft": {
          "language": "python",
          "language_group": "synapse_pyspark"
        },
        "id": "586a3bf4-b1d0-45e7-98ac-31d58d90f810"
      },
      "id": "586a3bf4-b1d0-45e7-98ac-31d58d90f810"
    },
    {
      "cell_type": "code",
      "source": [
        "%%sql\n",
        "-- Creer une vue temporaire de la table wind_power_production\n",
        "CREATE OR REPLACE TEMPORARY VIEW bronze_wind_power_production AS\n",
        "SELECT *\n",
        "FROM LH_Bronze.wind_power_production"
      ],
      "outputs": [],
      "execution_count": null,
      "metadata": {
        "microsoft": {
          "language": "sparksql",
          "language_group": "synapse_pyspark"
        },
        "id": "343fd45e-749b-4d9a-b60d-b8c266101ea6"
      },
      "id": "343fd45e-749b-4d9a-b60d-b8c266101ea6"
    },
    {
      "cell_type": "code",
      "source": [
        "%%sql\n",
        "-- Nettoyer et enrichir les données\n",
        "CREATE OR REPLACE TEMPORARY VIEW transformed_wind_power_production AS\n",
        "SELECT\n",
        "    production_id,date,turbine_name,capacity,location_name,latitude,longitude,\n",
        "    region,status,responsible_department,\n",
        "    wind_direction,\n",
        "    ROUND(wind_speed, 2) AS wind_speed,\n",
        "    ROUND(energy_produced, 2) AS energy_produced,\n",
        "    DAY(date) AS day,\n",
        "    MONTH(date) AS month,\n",
        "    QUARTER(date) AS quarter,\n",
        "    YEAR(date) as year,\n",
        "    REGEXP_REPLACE(time, '-', ':') AS time,\n",
        "    CAST(SUBSTRING(time, 1, 2) AS INT) AS hour_of_day,\n",
        "    CAST(SUBSTRING(time, 4, 2) AS INT) AS minute_of_hour,\n",
        "    CAST(SUBSTRING(time, 7, 2) AS INT) AS second_of_minute,\n",
        "    CASE\n",
        "        WHEN CAST(SUBSTRING(time, 1, 2) AS INT) BETWEEN 5 AND 11 THEN 'Morning'\n",
        "        WHEN CAST(SUBSTRING(time, 1, 2) AS INT) BETWEEN 12 AND 16 THEN 'Afternoon'\n",
        "        WHEN CAST(SUBSTRING(time, 1, 2) AS INT) BETWEEN 17 AND 20 THEN 'Evening'\n",
        "        ELSE 'Night'\n",
        "    END AS time_period\n",
        "FROM bronze_wind_power_production;"
      ],
      "outputs": [],
      "execution_count": null,
      "metadata": {
        "jupyter": {
          "source_hidden": false,
          "outputs_hidden": false
        },
        "nteract": {
          "transient": {
            "deleting": false
          }
        },
        "microsoft": {
          "language": "sparksql",
          "language_group": "synapse_pyspark"
        },
        "id": "5a4607c8-2834-43f6-92ba-eaef603aae1e"
      },
      "id": "5a4607c8-2834-43f6-92ba-eaef603aae1e"
    },
    {
      "cell_type": "code",
      "source": [
        "%%sql\n",
        "-- Supprimez la table wind_power_production dans Lakehouse Silver  si elle existe\n",
        "DROP TABLE IF EXISTS LH_Silver.wind_power_production;"
      ],
      "outputs": [],
      "execution_count": null,
      "metadata": {
        "jupyter": {
          "source_hidden": false,
          "outputs_hidden": false
        },
        "nteract": {
          "transient": {
            "deleting": false
          }
        },
        "microsoft": {
          "language": "sparksql",
          "language_group": "synapse_pyspark"
        },
        "id": "41b1ead2-e539-484d-922b-3868dc8b69e9"
      },
      "id": "41b1ead2-e539-484d-922b-3868dc8b69e9"
    },
    {
      "cell_type": "code",
      "source": [
        "%%sql\n",
        "-- Créer la nouvelle table wind_power_production dans Lakehouse Silver\n",
        "CREATE TABLE LH_Silver.wind_power_production--creation d'une nouvelle table\n",
        "USING delta --au format deltat\n",
        "AS\n",
        "SELECT * FROM transformed_wind_power_production --dont le contenu de la table"
      ],
      "outputs": [],
      "execution_count": null,
      "metadata": {
        "jupyter": {
          "source_hidden": false,
          "outputs_hidden": false
        },
        "nteract": {
          "transient": {
            "deleting": false
          }
        },
        "microsoft": {
          "language": "sparksql",
          "language_group": "synapse_pyspark"
        },
        "id": "5311154b-40f8-49b9-8b59-659b0e3fa963"
      },
      "id": "5311154b-40f8-49b9-8b59-659b0e3fa963"
    }
  ],
  "metadata": {
    "kernel_info": {
      "name": "synapse_pyspark"
    },
    "kernelspec": {
      "name": "synapse_pyspark",
      "language": "Python",
      "display_name": "Synapse PySpark"
    },
    "language_info": {
      "name": "python"
    },
    "microsoft": {
      "language": "python",
      "language_group": "synapse_pyspark",
      "ms_spell_check": {
        "ms_spell_check_language": "en"
      }
    },
    "nteract": {
      "version": "nteract-front-end@1.0.0"
    },
    "spark_compute": {
      "compute_id": "/trident/default"
    },
    "dependencies": {
      "lakehouse": {
        "known_lakehouses": [
          {
            "id": "fbc6646f-5e35-4dc8-9524-e05d51e7f330"
          },
          {
            "id": "1367568c-68c3-4c83-a404-7d9da94a2412"
          }
        ],
        "default_lakehouse": "fbc6646f-5e35-4dc8-9524-e05d51e7f330",
        "default_lakehouse_name": "LH_Silver",
        "default_lakehouse_workspace_id": "bfcb8e41-2b70-4eaf-8e07-1ea42aafff4f"
      }
    },
    "colab": {
      "provenance": []
    }
  },
  "nbformat": 4,
  "nbformat_minor": 5
}