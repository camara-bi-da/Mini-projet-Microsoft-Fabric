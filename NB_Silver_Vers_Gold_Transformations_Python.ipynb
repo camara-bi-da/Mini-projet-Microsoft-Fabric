{
  "cells": [
    {
      "cell_type": "markdown",
      "source": [
        "# Transformations de Silver en Gold\n",
        "\n",
        "Ce Notebook effectue des transformations sur les données du Lakehouse Silver  et enregistre les données transformées dans le Lakehouse Gold."
      ],
      "metadata": {
        "nteract": {
          "transient": {
            "deleting": false
          }
        },
        "microsoft": {
          "language": "python",
          "language_group": "synapse_pyspark"
        },
        "id": "75367600-2d8b-4e5a-9be7-c0fd756f3103"
      },
      "id": "75367600-2d8b-4e5a-9be7-c0fd756f3103"
    },
    {
      "cell_type": "code",
      "source": [
        "from pyspark.sql.window import Window\n",
        "from pyspark.sql.functions import row_number"
      ],
      "outputs": [],
      "execution_count": null,
      "metadata": {
        "microsoft": {
          "language": "python",
          "language_group": "synapse_pyspark"
        },
        "id": "b4c75203-8a9d-4352-868a-f3674726806a"
      },
      "id": "b4c75203-8a9d-4352-868a-f3674726806a"
    },
    {
      "cell_type": "code",
      "source": [
        "# Définissez le chemin d'accès à la table wind_power_production dans Silver Lakehouse\n",
        "silver_table_path = \"abfss://WindPowerGeneration@onelake.dfs.fabric.microsoft.com/LH_Silver.Lakehouse/Tables/wind_power_production\"\n",
        "\n",
        "# Charge la table wind_power_production\n",
        "df = spark.read.format(\"delta\").load(silver_table_path)"
      ],
      "outputs": [],
      "execution_count": null,
      "metadata": {
        "jupyter": {
          "source_hidden": false,
          "outputs_hidden": false
        },
        "nteract": {
          "transient": {
            "deleting": false
          }
        },
        "microsoft": {
          "language": "python",
          "language_group": "synapse_pyspark"
        },
        "id": "f0345994-a90c-4e2f-8c27-c341030e950f"
      },
      "id": "f0345994-a90c-4e2f-8c27-c341030e950f"
    },
    {
      "cell_type": "code",
      "source": [
        "# Crée la table de dimension 'Date'\n",
        "date_dim = df.select(\"date\", \"day\", \"month\", \"quarter\", \"year\").distinct() \\\n",
        "            .withColumnRenamed(\"date\", \"date_id\")\n",
        "\n",
        "# Crée la table de dimension 'Time'\n",
        "time_dim = df.select(\"time\", \"hour_of_day\", \"minute_of_hour\", \"second_of_minute\", \"time_period\").distinct() \\\n",
        "            .withColumnRenamed(\"time\", \"time_id\")\n",
        "\n",
        "# Crée la table de dimension des turbines 'turbine_dim'\n",
        "turbine_dim = df.select(\"turbine_name\", \"capacity\", \"location_name\", \"latitude\", \"longitude\", \"region\").distinct() \\\n",
        "                .withColumn(\"turbine_id\", row_number().over(Window.orderBy(\"turbine_name\", \"capacity\", \"location_name\", \"latitude\", \"longitude\", \"region\")))\n",
        "\n",
        "# Crée la table de dimension Statut opérationnel'operational_status_dim'\n",
        "operational_status_dim = df.select(\"status\", \"responsible_department\").distinct() \\\n",
        "                .withColumn(\"status_id\", row_number().over(Window.orderBy(\"status\", \"responsible_department\")))"
      ],
      "outputs": [],
      "execution_count": null,
      "metadata": {
        "jupyter": {
          "source_hidden": false,
          "outputs_hidden": false
        },
        "nteract": {
          "transient": {
            "deleting": false
          }
        },
        "microsoft": {
          "language": "python",
          "language_group": "synapse_pyspark"
        },
        "id": "dfd719ae-ee37-49b8-9640-0762e3a7a64e"
      },
      "id": "dfd719ae-ee37-49b8-9640-0762e3a7a64e"
    },
    {
      "cell_type": "code",
      "source": [
        "# Fais la jointure entre les tables de dimension turbine_dim et operational_status_dim avec le DataFrame d'origine\n",
        "df = df.join(turbine_dim, [\"turbine_name\", \"capacity\", \"location_name\", \"latitude\", \"longitude\", \"region\"], \"left\") \\\n",
        "        .join(operational_status_dim, [\"status\", \"responsible_department\"], \"left\")"
      ],
      "outputs": [],
      "execution_count": null,
      "metadata": {
        "jupyter": {
          "source_hidden": false,
          "outputs_hidden": false
        },
        "nteract": {
          "transient": {
            "deleting": false
          }
        },
        "microsoft": {
          "language": "python",
          "language_group": "synapse_pyspark"
        },
        "id": "ff6a81d6-2cb9-4454-ae9a-4c66844a852b"
      },
      "id": "ff6a81d6-2cb9-4454-ae9a-4c66844a852b"
    },
    {
      "cell_type": "code",
      "source": [
        "# Crée la table de faits\n",
        "fact_table = df.select(\"production_id\", \"date\", \"time\", \"turbine_id\", \"status_id\", \"wind_speed\", \"wind_direction\", \"energy_produced\") \\\n",
        "                .withColumnRenamed(\"date\", \"date_id\").withColumnRenamed(\"time\", \"time_id\")"
      ],
      "outputs": [],
      "execution_count": null,
      "metadata": {
        "jupyter": {
          "source_hidden": false,
          "outputs_hidden": false
        },
        "nteract": {
          "transient": {
            "deleting": false
          }
        },
        "microsoft": {
          "language": "python",
          "language_group": "synapse_pyspark"
        },
        "id": "137628aa-a007-4504-a71c-3eab6aa87425"
      },
      "id": "137628aa-a007-4504-a71c-3eab6aa87425"
    },
    {
      "cell_type": "code",
      "source": [
        "# Définis les chemins d'accès aux tables dans le Lakehouse Gold\n",
        "gold_date_dim_path = \"abfss://WindPowerGeneration@onelake.dfs.fabric.microsoft.com/LH_Gold.Lakehouse/Tables/dim_date\"\n",
        "gold_time_dim_path = \"abfss://WindPowerGeneration@onelake.dfs.fabric.microsoft.com/LH_Gold.Lakehouse/Tables/dim_time\"\n",
        "gold_turbine_dim_path = \"abfss://WindPowerGeneration@onelake.dfs.fabric.microsoft.com/LH_Gold.Lakehouse/Tables/dim_turbine\"\n",
        "gold_operational_status_dim_path = \"abfss://WindPowerGeneration@onelake.dfs.fabric.microsoft.com/LH_Gold.Lakehouse/Tables/dim_operational_status\"\n",
        "gold_fact_table_path = \"abfss://WindPowerGeneration@onelake.dfs.fabric.microsoft.com/LH_Gold.Lakehouse/Tables/fact_wind_power_production\"\n",
        "\n",
        "# Sauvegarde les tables dans le Lakehouse Gold\n",
        "date_dim.write.format(\"delta\").mode(\"overwrite\").save(gold_date_dim_path)\n",
        "time_dim.write.format(\"delta\").mode(\"overwrite\").save(gold_time_dim_path)\n",
        "turbine_dim.write.format(\"delta\").mode(\"overwrite\").save(gold_turbine_dim_path)\n",
        "operational_status_dim.write.format(\"delta\").mode(\"overwrite\").save(gold_operational_status_dim_path)\n",
        "fact_table.write.format(\"delta\").mode(\"overwrite\").save(gold_fact_table_path)"
      ],
      "outputs": [],
      "execution_count": null,
      "metadata": {
        "jupyter": {
          "source_hidden": false,
          "outputs_hidden": false
        },
        "nteract": {
          "transient": {
            "deleting": false
          }
        },
        "microsoft": {
          "language": "python",
          "language_group": "synapse_pyspark"
        },
        "id": "9a9b7aa3-b3f3-42f6-9c25-4360e8121612"
      },
      "id": "9a9b7aa3-b3f3-42f6-9c25-4360e8121612"
    }
  ],
  "metadata": {
    "kernel_info": {
      "name": "synapse_pyspark"
    },
    "kernelspec": {
      "name": "synapse_pyspark",
      "language": "Python",
      "display_name": "Synapse PySpark"
    },
    "language_info": {
      "name": "python"
    },
    "microsoft": {
      "language": "python",
      "language_group": "synapse_pyspark",
      "ms_spell_check": {
        "ms_spell_check_language": "en"
      }
    },
    "nteract": {
      "version": "nteract-front-end@1.0.0"
    },
    "synapse_widget": {
      "version": "0.1",
      "state": {}
    },
    "spark_compute": {
      "compute_id": "/trident/default"
    },
    "dependencies": {
      "lakehouse": {
        "known_lakehouses": [
          {
            "id": "fbc6646f-5e35-4dc8-9524-e05d51e7f330"
          },
          {
            "id": "10b25a50-d77f-4e5e-8c40-8134a1c982da"
          }
        ],
        "default_lakehouse": "fbc6646f-5e35-4dc8-9524-e05d51e7f330",
        "default_lakehouse_name": "LH_Silver",
        "default_lakehouse_workspace_id": "bfcb8e41-2b70-4eaf-8e07-1ea42aafff4f"
      }
    },
    "colab": {
      "provenance": []
    }
  },
  "nbformat": 4,
  "nbformat_minor": 5
}